{
 "cells": [
  {
   "cell_type": "markdown",
   "id": "b6e3ada3-39d4-4f63-a327-dae4ec9ef5d1",
   "metadata": {},
   "source": [
    "# **Linear Regression: Predicting Medical Insurance Costs**\n",
    "\n",
    "## Scenario\n",
    "As data scientist working for a healthcare consultancy firm, you are tasked with building a model to predict medical insurance costs based on various attributes such as age, sex, BMI, number of children, and smoking habits. Accurate predictions will assist insurance companies in determining fair premium prices, help individuals understand factors affecting their costs, and support businesses in designing employee health plans.\n",
    "\n",
    "## Dataset Overview\n",
    "The dataset includes the following columns:\n",
    "- `age`: The age of the individual.\n",
    "- `sex`: Gender of the individual (`1` for male, `0` for female).\n",
    "- `bmi`: Body Mass Index, a measure of body fat based on height and weight.\n",
    "- `children`: Number of dependents covered by the insurance.\n",
    "- `smoker`: Smoking status of the individual (`1` for smoker, `0` for non-smoker).\n",
    "- `charges`: The target variable; the medical insurance cost for the individual.\n",
    "\n",
    "## Why Linear Regression?\n",
    "Linear regression is suitable for this scenario because:\n",
    "1. The target variable (`charges`) is continuous, making it appropriate for regression techniques.\n",
    "2. It helps quantify the relationship between the input variables (age, BMI, etc.) and the insurance cost.\n",
    "3. The interpretable coefficients provide insights into the influence of each factor on insurance charges.\n",
    "\n",
    "## Identifying Input and Target Variables\n",
    "In predictive modeling, variables are categorised into **input variables** and **target variables**:\n",
    "- **Input Variables**: Independent variables or features used for prediction. They represent factors affecting the outcome.\n",
    "- **Target Variable**: The dependent variable or outcome that we aim to predict.\n",
    "\n",
    "For this dataset:\n",
    "- **Input Variables**: `age`, `sex`, `bmi`, `children`, `smoker`\n",
    "- **Target Variable**: `charges`.\n"
   ]
  },
  {
   "cell_type": "markdown",
   "id": "2e3fb92d-8ef1-4518-b85f-dbc779548d3d",
   "metadata": {},
   "source": [
    "## Step 1: Import Libraries"
   ]
  },
  {
   "cell_type": "code",
   "execution_count": 8,
   "id": "bb2a01f6-2735-4c69-899e-d521746d6ea0",
   "metadata": {},
   "outputs": [],
   "source": [
    "# Importing essential libraries\n",
    "import pandas as pd  # For data manipulation and analysis\n",
    "import numpy as np  # For numerical operations\n",
    "from sklearn.model_selection import train_test_split  # For splitting the dataset\n",
    "from sklearn.linear_model import LinearRegression  # Linear regression model\n",
    "from sklearn.metrics import mean_squared_error, r2_score  # Evaluation metrics"
   ]
  },
  {
   "cell_type": "markdown",
   "id": "f74e2735-4da9-49fe-ab6b-67bd4a0c9c26",
   "metadata": {},
   "source": [
    "## Step 2: Load the Dataset"
   ]
  },
  {
   "cell_type": "code",
   "execution_count": 9,
   "id": "d1252989-1bfd-480d-a771-e17d2a908906",
   "metadata": {},
   "outputs": [
    {
     "name": "stdout",
     "output_type": "stream",
     "text": [
      "   age  sex     bmi  children  smoker      charges\n",
      "0   19    0  27.900         0       1  16884.92400\n",
      "1   18    1  33.770         1       0   1725.55230\n",
      "2   28    1  33.000         3       0   4449.46200\n",
      "3   33    1  22.705         0       0  21984.47061\n",
      "4   32    1  28.880         0       0   3866.85520\n"
     ]
    }
   ],
   "source": [
    "# Load the dataset\n",
    "file_path = 'Medical Insurance.csv'\n",
    "data = pd.read_csv(file_path)\n",
    "\n",
    "# Display the first few rows\n",
    "print(data.head())"
   ]
  },
  {
   "cell_type": "markdown",
   "id": "df385675-6f9e-471f-8fb0-2b987547f13d",
   "metadata": {},
   "source": [
    "## Step 3: Data Preparation"
   ]
  },
  {
   "cell_type": "code",
   "execution_count": 12,
   "id": "82183444-7692-47aa-a21f-902f7d6a31a7",
   "metadata": {},
   "outputs": [],
   "source": [
    "# Selecting input variables and target variable\n",
    "X = data[['age', 'sex', 'bmi', 'children', 'smoker']] # Input Variables\n",
    "y = data['charges'] # Target Variable\n",
    "\n",
    "# Splitting the dataset into training and testing sets\n",
    "X_train, X_test, y_train, y_test = train_test_split(X, y, test_size=0.3, random_state=42)\n",
    "# Ensuring reproducibility by setting the random_state\n"
   ]
  },
  {
   "cell_type": "markdown",
   "id": "83112725-7952-47b5-b482-cc7bedf07cac",
   "metadata": {},
   "source": [
    "## Step 4: Train the Model"
   ]
  },
  {
   "cell_type": "code",
   "execution_count": 14,
   "id": "fc726fff-ea23-4724-b82c-e0c28273a16e",
   "metadata": {},
   "outputs": [
    {
     "name": "stdout",
     "output_type": "stream",
     "text": [
      "Coefficients: [  261.91061673   136.65119758   333.36099462   432.1792927\n",
      " 23618.76182167]\n",
      "Intercept: -12538.439849853119\n"
     ]
    }
   ],
   "source": [
    "# Initialise and train the linear regression model\n",
    "model = LinearRegression()\n",
    "model.fit(X_train, y_train)\n",
    "\n",
    "# Coefficients and intercept\n",
    "print(\"Coefficients:\", model.coef_)\n",
    "print(\"Intercept:\", model.intercept_)"
   ]
  },
  {
   "cell_type": "markdown",
   "id": "09e35481-66b1-4ead-94ac-8079de2d3586",
   "metadata": {},
   "source": [
    "## Step 5: Evaluate the Model"
   ]
  },
  {
   "cell_type": "code",
   "execution_count": 16,
   "id": "28f4c979-8d0c-475f-a479-8957a6986d7b",
   "metadata": {},
   "outputs": [
    {
     "name": "stdout",
     "output_type": "stream",
     "text": [
      "Mean Squared Error: 34003912.39316075\n",
      "R-squared: 0.7680881643600721\n"
     ]
    }
   ],
   "source": [
    "# Make predictions\n",
    "y_pred = model.predict(X_test)\n",
    "\n",
    "# Calculate metrics\n",
    "mse = mean_squared_error(y_test, y_pred)\n",
    "r2 = r2_score(y_test, y_pred)\n",
    "\n",
    "print(f\"Mean Squared Error: {mse}\")\n",
    "print(f\"R-squared: {r2}\")"
   ]
  },
  {
   "cell_type": "markdown",
   "id": "2cbd6244-4e74-4b90-9710-491a442f228a",
   "metadata": {},
   "source": [
    "### Mean Squared Error (MSE)\n",
    "- **MSE: 34,003,912.39**  \n",
    "  The Mean Squared Error represents the average squared difference between the actual and predicted values. A lower MSE indicates better model performance. In this case, the MSE is relatively high, suggesting some room for improvement in the model's accuracy.\n",
    "\n",
    "### R-squared (R²)\n",
    "- **R²: 0.7681**  \n",
    "  The R-squared value explains the proportion of variance in the target variable (`charges`) that is explained by the input variables.  \n",
    "  - An R² value of **0.7681** indicates that approximately **76.81%** of the variability in medical insurance costs is explained by the model.  \n",
    "  - This is a reasonably good fit, though there is still about 23.19% of the variability that the model does not capture, which could be due to factors not included in the dataset such as the area where the customer lives.\n"
   ]
  },
  {
   "cell_type": "markdown",
   "id": "0316bf3d-8dbf-4c32-bca4-a4ae69ba2b87",
   "metadata": {},
   "source": [
    "## Step 6: Make Predictions with New Data"
   ]
  },
  {
   "cell_type": "code",
   "execution_count": 18,
   "id": "fb61b196-ea7c-429b-b5b2-ee01126bc727",
   "metadata": {},
   "outputs": [
    {
     "data": {
      "text/html": [
       "<div>\n",
       "<style scoped>\n",
       "    .dataframe tbody tr th:only-of-type {\n",
       "        vertical-align: middle;\n",
       "    }\n",
       "\n",
       "    .dataframe tbody tr th {\n",
       "        vertical-align: top;\n",
       "    }\n",
       "\n",
       "    .dataframe thead th {\n",
       "        text-align: right;\n",
       "    }\n",
       "</style>\n",
       "<table border=\"1\" class=\"dataframe\">\n",
       "  <thead>\n",
       "    <tr style=\"text-align: right;\">\n",
       "      <th></th>\n",
       "      <th>age</th>\n",
       "      <th>sex</th>\n",
       "      <th>bmi</th>\n",
       "      <th>children</th>\n",
       "      <th>smoker</th>\n",
       "    </tr>\n",
       "  </thead>\n",
       "  <tbody>\n",
       "    <tr>\n",
       "      <th>0</th>\n",
       "      <td>34</td>\n",
       "      <td>1</td>\n",
       "      <td>25.4</td>\n",
       "      <td>1</td>\n",
       "      <td>0</td>\n",
       "    </tr>\n",
       "    <tr>\n",
       "      <th>1</th>\n",
       "      <td>27</td>\n",
       "      <td>0</td>\n",
       "      <td>28.2</td>\n",
       "      <td>3</td>\n",
       "      <td>1</td>\n",
       "    </tr>\n",
       "  </tbody>\n",
       "</table>\n",
       "</div>"
      ],
      "text/plain": [
       "   age  sex   bmi  children  smoker\n",
       "0   34    1  25.4         1       0\n",
       "1   27    0  28.2         3       1"
      ]
     },
     "execution_count": 18,
     "metadata": {},
     "output_type": "execute_result"
    }
   ],
   "source": [
    "new_data = pd.DataFrame({\n",
    "    'age': [34, 27],\n",
    "    'sex': [1, 0],\n",
    "    'bmi': [25.4, 28.2],\n",
    "    'children': [1, 3],\n",
    "    'smoker': [0, 1],\n",
    "})\n",
    "new_data"
   ]
  },
  {
   "cell_type": "markdown",
   "id": "7713f0c5-d2cf-448f-ba71-1ee569fd91ee",
   "metadata": {},
   "source": [
    "- **Individual 1 (Row 1):**  \n",
    "  - **Age:** 34  \n",
    "  - **Sex:** Male (1)  \n",
    "  - **BMI:** 25.4  \n",
    "  - **Children:** 1 dependent  \n",
    "  - **Smoker:** No (0)"
   ]
  },
  {
   "cell_type": "markdown",
   "id": "b867e377-fb4c-4935-8396-48311a7bc285",
   "metadata": {},
   "source": [
    "\n",
    "- **Individual 2 (Row 2):**  \n",
    "  - **Age:** 27  \n",
    "  - **Sex:** Female (0)  \n",
    "  - **BMI:** 28.2  \n",
    "  - **Children:** 3 dependents  \n",
    "  - **Smoker:** Yes (1)  "
   ]
  },
  {
   "cell_type": "code",
   "execution_count": 51,
   "id": "2546a1a3-3a3a-4f91-9cb4-7a427e66afac",
   "metadata": {},
   "outputs": [
    {
     "name": "stdout",
     "output_type": "stream",
     "text": [
      "Predicted Costs: [ 5402.72087254 28849.22654988]\n"
     ]
    }
   ],
   "source": [
    "# Make predictions\n",
    "predicted_cost = model.predict(new_data)\n",
    "print(\"Predicted Costs:\", predicted_cost)"
   ]
  },
  {
   "cell_type": "markdown",
   "id": "fb10b6bc-2236-4223-93fc-b1b4c17d76a1",
   "metadata": {},
   "source": [
    "## What's Next?\n",
    "\n",
    "Up next is **Logistic Regression**, where we will explore how to predict categorical outcomes and understand the relationship between variables when the target is binary. Stay tuned for the next lesson to expand your predictive modeling skills!\n"
   ]
  }
 ],
 "metadata": {
  "kernelspec": {
   "display_name": "Python 3 (ipykernel)",
   "language": "python",
   "name": "python3"
  },
  "language_info": {
   "codemirror_mode": {
    "name": "ipython",
    "version": 3
   },
   "file_extension": ".py",
   "mimetype": "text/x-python",
   "name": "python",
   "nbconvert_exporter": "python",
   "pygments_lexer": "ipython3",
   "version": "3.12.7"
  }
 },
 "nbformat": 4,
 "nbformat_minor": 5
}
